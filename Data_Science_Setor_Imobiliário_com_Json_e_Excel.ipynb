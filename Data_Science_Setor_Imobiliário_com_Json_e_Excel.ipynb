{
  "cells": [
    {
      "cell_type": "markdown",
      "source": [
        "#Duas bases de dados Json e excel\n",
        "\n",
        "*   Json( Base normal e highlights)\n",
        "*  Excel (Base residencial x comercial Preço medio port tipo)\n",
        "\n",
        "### A ideia desse projeto é trabalhar o tratamento, organização e estilização dos dataframes usando metodos estatisticos e metodos dos pandas"
      ],
      "metadata": {
        "id": "vOxXp4Zy5Kdb"
      }
    },
    {
      "cell_type": "markdown",
      "metadata": {
        "id": "P_gXKCYpevgP"
      },
      "source": [
        "# Importando pacotes"
      ]
    },
    {
      "cell_type": "code",
      "execution_count": 1,
      "metadata": {
        "ExecuteTime": {
          "end_time": "2020-10-25T16:41:53.996410Z",
          "start_time": "2020-10-25T16:41:53.989428Z"
        },
        "id": "s-xCbXDzevgQ"
      },
      "outputs": [],
      "source": [
        "import pandas as pd\n",
        "import numpy as np"
      ]
    },
    {
      "cell_type": "markdown",
      "source": [
        "# Configurações do projeto"
      ],
      "metadata": {
        "id": "6uOnDUY0Cbpx"
      }
    },
    {
      "cell_type": "code",
      "source": [
        "pd.get_option(\"display.max_rows\")                  #visualizando como está o default dessa configuração"
      ],
      "metadata": {
        "id": "_tjv5zVZRRIA"
      },
      "execution_count": null,
      "outputs": []
    },
    {
      "cell_type": "code",
      "source": [
        "pd.get_option(\"display.max_columns\")  "
      ],
      "metadata": {
        "id": "SRAwBdQMRkon"
      },
      "execution_count": null,
      "outputs": []
    },
    {
      "cell_type": "code",
      "source": [
        "pd.set_option(\"display.max_rows\", 1000)            #configurei o tamanho visual que eu quero que mostre os dados"
      ],
      "metadata": {
        "id": "qOWPFu6SQXOw"
      },
      "execution_count": 4,
      "outputs": []
    },
    {
      "cell_type": "code",
      "source": [
        "pd.set_option(\"display.max_columns\", 1000)"
      ],
      "metadata": {
        "id": "CH0JZod1QtFI"
      },
      "execution_count": 5,
      "outputs": []
    },
    {
      "cell_type": "markdown",
      "metadata": {
        "id": "43QYxdBWevgT"
      },
      "source": [
        "## Carregando os dados\n",
        "---"
      ]
    },
    {
      "cell_type": "code",
      "source": [
        "bairros = pd.read_excel(                                            \n",
        "    io = \"bairros.xlsx\",\n",
        "        sheet_name=\"Preço médio por tipo\",\n",
        "        usecols=\"C:E\",\n",
        "        header = 2,\n",
        "        index_col=[0, 1],\n",
        "        names=['bairros','tipo','valor_m2_bairro']\n",
        ")\n",
        "bairros"
      ],
      "metadata": {
        "id": "OydnqsynwaCf"
      },
      "execution_count": null,
      "outputs": []
    },
    {
      "cell_type": "code",
      "execution_count": null,
      "metadata": {
        "id": "mqhtwsPSevgU"
      },
      "outputs": [],
      "source": [
        "dados_json= pd.read_json(                                            \n",
        "    path_or_buf ='realestates.json',\n",
        "    orient= 'columns'\n",
        ")\n",
        "dados_json"
      ]
    },
    {
      "cell_type": "markdown",
      "metadata": {
        "id": "A05bkoTPevgV"
      },
      "source": [
        "# TRANSFORMANDO E TRATANDO OS DADOS\n",
        "---"
      ]
    },
    {
      "cell_type": "code",
      "source": [
        "dados_json_normal = pd.json_normalize(data=dados_json.normal, sep='_', record_path=['listings'])          # Em Json tenho duas colunas (normal e highlights), aqui eu transformo esses dataset em listas\n",
        "dados_json_normal"
      ],
      "metadata": {
        "id": "In_1usRYzHP-"
      },
      "execution_count": null,
      "outputs": []
    },
    {
      "cell_type": "code",
      "source": [
        "dados_json_highlights = pd.json_normalize(data=dados_json.highlights, sep='_', record_path=['listings'])\n",
        "dados_json_highlights"
      ],
      "metadata": {
        "id": "Pxls0VdfzHTB"
      },
      "execution_count": null,
      "outputs": []
    },
    {
      "cell_type": "code",
      "source": [
        ""
      ],
      "metadata": {
        "id": "89EC6jMBGATz"
      },
      "execution_count": 9,
      "outputs": []
    },
    {
      "cell_type": "code",
      "source": [
        "json_normal = dados_json_normal.loc[0,'imovel_caracteristicas_propriedade']                         #identifiquei que os dados da serie são em str\n",
        "json_normal                                                                                                    "
      ],
      "metadata": {
        "id": "r5vbOkQs3rLB"
      },
      "execution_count": null,
      "outputs": []
    },
    {
      "cell_type": "code",
      "source": [
        "type(json_normal)"
      ],
      "metadata": {
        "id": "xygXWeLv-ci_"
      },
      "execution_count": null,
      "outputs": []
    },
    {
      "cell_type": "code",
      "source": [
        "Texto = dados_json_normal.loc[:, 'imovel_caracteristicas_propriedade']                           # aplico o metodo string para toda serie, possibilitando tratamento dos dados e transformação para lista\n",
        "Texto"
      ],
      "metadata": {
        "id": "1A4fyKraCAzt"
      },
      "execution_count": null,
      "outputs": []
    },
    {
      "cell_type": "code",
      "source": [
        "Texto.str"
      ],
      "metadata": {
        "id": "6QPzWkQTJIN8"
      },
      "execution_count": null,
      "outputs": []
    },
    {
      "cell_type": "code",
      "source": [
        "columns = dados_json_normal .filter(like='imovel_caracteristicas')                               # trago todo tratamento da string filtrando tudo que tem nos dois dataset compativeis com (imovel_caracteristicas)\n",
        "\n",
        "for column in columns: \n",
        "    dados_json_normal [column] = dados_json_normal [column].str[1:-1].str.replace(\"'\",\"\").str.split(\",\")\n",
        "    dados_json_highlights[column] = dados_json_highlights[column].str[1:-1].str.replace(\"'\",\"\").str.split(\",\")"
      ],
      "metadata": {
        "id": "--Oq37A_McMY"
      },
      "execution_count": 14,
      "outputs": []
    },
    {
      "cell_type": "code",
      "source": [
        "dados_json_normal.columns == dados_json_highlights.columns                                           #Todas as colunas do dataset são iguais "
      ],
      "metadata": {
        "id": "boQ75LzDNVQl"
      },
      "execution_count": null,
      "outputs": []
    },
    {
      "cell_type": "code",
      "source": [
        "dados_unificados = dados_json_normal.append(dados_json_highlights, ignore_index= True)             #unifiquei os dois dataframes ignorando os index de ambos \n",
        "dados_unificados"
      ],
      "metadata": {
        "id": "hAOZSmhQPdto"
      },
      "execution_count": null,
      "outputs": []
    },
    {
      "cell_type": "markdown",
      "metadata": {
        "id": "GJbtme1Gevge"
      },
      "source": [
        "## Combinando *DataFrames* a partir de uma chave de ligação\n",
        "---"
      ]
    },
    {
      "cell_type": "markdown",
      "source": [
        "A ideia nessa etapa é criar uma unificação dos dois dataframes (json e excel)"
      ],
      "metadata": {
        "id": "WauRYplz1sX3"
      }
    },
    {
      "cell_type": "code",
      "source": [
        "bairros_amostra = dados_json_normal['imovel_endereco_bairro']               #trago a coluna do json (imovel_endereço_ bairro)\n",
        "bairros_amostra"
      ],
      "metadata": {
        "id": "HK2nLpR9z7uX"
      },
      "execution_count": null,
      "outputs": []
    },
    {
      "cell_type": "code",
      "source": [
        "bairros_todos = bairros.index.get_level_values('bairros')                 #trago bairros do excel excluindo seus index\n",
        "bairros_todos"
      ],
      "metadata": {
        "id": "glc3WNdX0r3w"
      },
      "execution_count": null,
      "outputs": []
    },
    {
      "cell_type": "code",
      "source": [
        "type(bairros_amostra.unique())                                             "
      ],
      "metadata": {
        "id": "52MZlvpz0r7l"
      },
      "execution_count": null,
      "outputs": []
    },
    {
      "cell_type": "code",
      "source": [
        "bairros_todos = pd.Series(bairros_amostra.unique())                       #transformo o array numpy em uma series do pandas \n",
        "bairros_todos"
      ],
      "metadata": {
        "id": "dBNKlcBc0sCF"
      },
      "execution_count": null,
      "outputs": []
    },
    {
      "cell_type": "code",
      "source": [
        "bairros_todos = pd.Series(bairros_todos.unique())                       \n",
        "bairros_todos"
      ],
      "metadata": {
        "id": "vGkyS5FO3iOt"
      },
      "execution_count": null,
      "outputs": []
    },
    {
      "cell_type": "code",
      "source": [
        "bairros_amostra.isin(bairros_todos)                                      #está ok todos os dados estão corretos "
      ],
      "metadata": {
        "id": "iRJXkEcw9TOT"
      },
      "execution_count": null,
      "outputs": []
    },
    {
      "cell_type": "markdown",
      "source": [
        "# Combinando os Dataframes de Bairros e Json\n",
        "---"
      ],
      "metadata": {
        "id": "RD6SMbO49Myr"
      }
    },
    {
      "cell_type": "code",
      "source": [
        "dados_json_normal[['imovel_endereco_bairro', 'imovel_tipos_propriedade']]"
      ],
      "metadata": {
        "id": "kB-yTU289SA8"
      },
      "execution_count": null,
      "outputs": []
    },
    {
      "cell_type": "code",
      "source": [
        "dados_json_normal= pd.merge(\n",
        "    left = dados_json_normal,\n",
        "    right= bairros, \n",
        "    left_on =['imovel_endereco_bairro', 'imovel_tipos_propriedade'],\n",
        "    right_index= True\n",
        "\n",
        ")\n",
        "\n",
        "dados_json_normal"
      ],
      "metadata": {
        "id": "OmKs2VUN9SIp"
      },
      "execution_count": null,
      "outputs": []
    },
    {
      "cell_type": "markdown",
      "metadata": {
        "id": "4aqxo4l-evgn"
      },
      "source": [
        "## Criando as colunas `quartos`, `suites` e `banheiros`"
      ]
    },
    {
      "cell_type": "code",
      "source": [
        "dados_json_normal['anuncio_descricao']                                                 #quero extrair os dados de string dentro dessa serie (extraindo o numero de banheiros que cada imovel tem)"
      ],
      "metadata": {
        "id": "Jybz0FQHf5XE"
      },
      "execution_count": null,
      "outputs": []
    },
    {
      "cell_type": "code",
      "source": [
        "configuracao= dados_json_normal['anuncio_descricao'].str.extractall('(\\d+)')           #uso a função str extractall para extrair os numeros dessa series"
      ],
      "metadata": {
        "id": "QNsBXgx7f5eD"
      },
      "execution_count": 26,
      "outputs": []
    },
    {
      "cell_type": "code",
      "source": [
        "configuracao = configuracao.unstack().rename(columns={0: 'quartos', 1: 'suites', 2: 'banheiros'})    #transformo os index em colunas e renomeio os nomes \n",
        "configuracao"
      ],
      "metadata": {
        "id": "viaI3p-EO0lr"
      },
      "execution_count": null,
      "outputs": []
    },
    {
      "cell_type": "code",
      "source": [
        "configuracao.columns                                                                             #observo que as minhas colunas estão com multindex e para fazer o match no meu dataframe preciso tirar um dos niveis do index"
      ],
      "metadata": {
        "id": "sp_FYLYAOjkJ",
        "colab": {
          "base_uri": "https://localhost:8080/"
        },
        "outputId": "c868f1f4-d8fa-4ea0-f2c9-37174774a0f5"
      },
      "execution_count": 28,
      "outputs": [
        {
          "output_type": "execute_result",
          "data": {
            "text/plain": [
              "MultiIndex([('quartos',   'quartos'),\n",
              "            ('quartos',    'suites'),\n",
              "            ('quartos', 'banheiros')],\n",
              "           names=[None, 'match'])"
            ]
          },
          "metadata": {},
          "execution_count": 28
        }
      ]
    },
    {
      "cell_type": "code",
      "source": [
        "configuracao = configuracao.droplevel(level=0, axis=1)                                           #retiro o nivel 0 do meu index\n",
        "configuracao"
      ],
      "metadata": {
        "id": "o9v1ooF-ORkM"
      },
      "execution_count": null,
      "outputs": []
    },
    {
      "cell_type": "code",
      "source": [
        "dados_json_normal = pd.merge(dados_json_normal, configuracao, left_index=True, right_index=True)   # faço match das configurações que eu queria e com meu dataframe\n",
        "dados_json_normal"
      ],
      "metadata": {
        "id": "luPTlWUpORpM"
      },
      "execution_count": null,
      "outputs": []
    },
    {
      "cell_type": "markdown",
      "metadata": {
        "id": "m2CS8xkuevgu"
      },
      "source": [
        "## Criando novas classificações"
      ]
    },
    {
      "cell_type": "code",
      "execution_count": 31,
      "metadata": {
        "id": "_l0qDgFzevgu"
      },
      "outputs": [],
      "source": [
        "tipo_uso = {                                                                                        #reclassifiquei os nomes para identificar os dados dentro do meu dataframe        \n",
        "    'Apartamento': 'Residencial',\n",
        "    'Casa': 'Residencial',\n",
        "    'Cobertura': 'Residencial',\n",
        "    'Consultório': 'Comercial',\n",
        "    'Imóvel Comercial': 'Comercial',\n",
        "    'Loja': 'Comercial',\n",
        "    'Sala Comercial': 'Comercial'\n",
        "}"
      ]
    },
    {
      "cell_type": "code",
      "execution_count": 32,
      "metadata": {
        "id": "DwyFjomsevgu",
        "scrolled": true
      },
      "outputs": [],
      "source": [
        "imovel_tipos_uso = dados_json_normal.imovel_tipos_propriedade.map(tipo_uso)                          #vou reclassificar as colunas do meu dataframe, mapeando o tipo de imovel para possibilitar analises individuais "
      ]
    },
    {
      "cell_type": "code",
      "execution_count": 33,
      "metadata": {
        "id": "tuPwv1JTevgv"
      },
      "outputs": [],
      "source": [
        "dados_json_normal.insert(loc=0, column='imovel_tipos_uso', value=imovel_tipos_uso)                   #aplico o insert para incluir essa coluna reclassifica dentro do meu dataframe"
      ]
    },
    {
      "cell_type": "code",
      "execution_count": null,
      "metadata": {
        "id": "IMSZeeIhevgw",
        "scrolled": true
      },
      "outputs": [],
      "source": [
        "dados_json_normal"
      ]
    },
    {
      "cell_type": "code",
      "source": [
        "valor_minimo =dados_json_normal['anuncio_valores_venda'].min()                                   #quero classificar as categorias dos imoveis (popular, padrao e alto padrao) a partir do valor do imovel\n",
        "\n",
        "valor_maximo =dados_json_normal['anuncio_valores_venda'].max()\n",
        "\n",
        "rotulos = ['Popular', 'Padrão', 'Alto Padrão']                                                                                        "
      ],
      "metadata": {
        "id": "bvKP77nWgb4Q"
      },
      "execution_count": 35,
      "outputs": []
    },
    {
      "cell_type": "code",
      "source": [
        "classes = [valor_minimo, 400000, 2000000, valor_maximo]                                               #criei uma classe personalizada com o limite dos meus valores"
      ],
      "metadata": {
        "id": "-0td6SXXhun1"
      },
      "execution_count": 36,
      "outputs": []
    },
    {
      "cell_type": "code",
      "source": [
        "dados_json_normal['classe_valor'] = pd.cut(x=dados_json_normal['anuncio_valores_venda'], bins=classes, labels=rotulos, include_lowest=True)  #incluo dentro do dataframe a classe personalizada com os parametros\n",
        "dados_json_normal"
      ],
      "metadata": {
        "id": "47T0vyfAiLo2"
      },
      "execution_count": null,
      "outputs": []
    },
    {
      "cell_type": "code",
      "execution_count": 38,
      "metadata": {
        "id": "RAPOfBHgevg0"
      },
      "outputs": [],
      "source": [
        "valor_m2 = lambda data: data['anuncio_valores_venda'] / data['imovel_area'] if data['imovel_area'] !=0 else 0     #aqui eu aplico um argumento com a função lambda para caso a área do imóvel for igual a 0, eu mantenho a informação do 0"
      ]
    },
    {
      "cell_type": "code",
      "source": [
        "dados_json_normal['valor_m2'] = dados_json_normal.apply(valor_m2, axis=1)                                       #aplico essas funções nos eixos que esta determinado"
      ],
      "metadata": {
        "id": "mnQfgCKrsITb"
      },
      "execution_count": 39,
      "outputs": []
    },
    {
      "cell_type": "markdown",
      "source": [
        "#Sumarizações estatísticas\n",
        "\n",
        "*   Item da lista\n",
        "*   Item da lista\n",
        "\n"
      ],
      "metadata": {
        "id": "JlyKSNmL0Xyu"
      }
    },
    {
      "cell_type": "markdown",
      "source": [
        "Com essas ferramentas consigo começar a identificar os possíveis candidatos a outlier dos dados e posso identificar também a possibilidade de precisar fazer algum tipo de separação nos dados.\n"
      ],
      "metadata": {
        "id": "tN1vMl600sTl"
      }
    },
    {
      "cell_type": "code",
      "execution_count": null,
      "metadata": {
        "id": "QNe-9qufevg4"
      },
      "outputs": [],
      "source": [
        "dados_json_normal[['anuncio_valores_venda', 'anuncio_valores_condominio', 'anuncio_valores_iptu']].agg(['sum', 'mean', 'std'])  #vou passar uma lista com as str com os metodos estatisticos que eu quero calcular "
      ]
    },
    {
      "cell_type": "code",
      "source": [
        "agrupamento = dados_json_normal[['imovel_tipos_propriedade', 'valor_m2']].groupby(by='imovel_tipos_propriedade')   #vou fazer uma sumarização de categorias trazendo a media, soma, mediana dos imoveis \n",
        "agrupamento  "
      ],
      "metadata": {
        "id": "Oley8tzY00F1"
      },
      "execution_count": null,
      "outputs": []
    },
    {
      "cell_type": "code",
      "source": [
        " agrupamento.mean().round()                                                                                      #aqui é um objeto do tipo DataFrameGroupBy, em cima dele eu vou fazer os agrupamentos."
      ],
      "metadata": {
        "id": "OOI4kXwU00MC"
      },
      "execution_count": null,
      "outputs": []
    },
    {
      "cell_type": "code",
      "execution_count": null,
      "metadata": {
        "id": "2mF_L8cAevg4"
      },
      "outputs": [],
      "source": [
        "agrupamento.agg(func=['min', 'mean', 'max', 'std'])                                                              #incluo também os metodos estatisticos para calcular esse agrupamento de tipos de imoveis"
      ]
    },
    {
      "cell_type": "code",
      "source": [
        "agrupamento = dados_json_normal[['imovel_tipos_propriedade','classe_valor', 'valor_m2']].groupby(by=['imovel_tipos_propriedade', 'classe_valor']) #eu faço o agrupamento algumas colunas para acrescenta no meu dataframe"
      ],
      "metadata": {
        "id": "8Jtpn_MP0sD_"
      },
      "execution_count": 44,
      "outputs": []
    },
    {
      "cell_type": "code",
      "source": [
        "agrupamento.mean().round()                                                                                     #faço alguns testes para saber esse agrupamento aconteceu "
      ],
      "metadata": {
        "id": "H76l2e9j0aC-"
      },
      "execution_count": null,
      "outputs": []
    },
    {
      "cell_type": "code",
      "source": [
        "agrupamento.agg(func=['min', 'mean', 'max', 'std'])                                                            #com agregate eu passo também os metodos estatisticos para esse agruapamento "
      ],
      "metadata": {
        "id": "NPp2iB6JcNBB"
      },
      "execution_count": null,
      "outputs": []
    },
    {
      "cell_type": "markdown",
      "source": [
        "#Tabelas de frequência"
      ],
      "metadata": {
        "id": "leH94QdA2zpv"
      }
    },
    {
      "cell_type": "markdown",
      "source": [
        "Quero entender com os dados estão distribuidos segundo as variaveis que eu tenho no DataFrame"
      ],
      "metadata": {
        "id": "eZiJj-Qf34Co"
      }
    },
    {
      "cell_type": "code",
      "source": [
        "dados_json_normal.value_counts(subset='imovel_tipos_propriedade')  #contagem de quantos tipos de propriedade, quantos apartamentos eu tenho no meu dataset, quantas casas, quantas coberturas, todas as informações"
      ],
      "metadata": {
        "id": "tOsoSxD02vQq"
      },
      "execution_count": null,
      "outputs": []
    },
    {
      "cell_type": "code",
      "source": [
        "dados_json_normal.value_counts(subset='imovel_tipos_propriedade', normalize=True)  #aqui eu trago essa informação em percentual"
      ],
      "metadata": {
        "id": "DMGkd6a-2vTF"
      },
      "execution_count": null,
      "outputs": []
    },
    {
      "cell_type": "code",
      "source": [
        "dados_json_normal.value_counts(subset=['imovel_tipos_uso', 'classe_valor'],normalize=True).to_frame(name= 'Percentual') * 100    #aqui eu incluo dentro de um dataframe para ficar melhor a visualização"
      ],
      "metadata": {
        "id": "tFoYbNGJ2vac"
      },
      "execution_count": null,
      "outputs": []
    },
    {
      "cell_type": "markdown",
      "metadata": {
        "id": "zfIcPdHpevg6"
      },
      "source": [
        "## Mudando o formato de um *DataFrame*"
      ]
    },
    {
      "cell_type": "markdown",
      "source": [
        "Modelei os dados para uma melhor visualizacao, formatei os metodos estatisticos que estavam em colunas  para linhas e coloquei a classe de imoveis em colunas, também transformando meus indices em colunas no dataframe"
      ],
      "metadata": {
        "id": "yT0pbIHV5sDz"
      }
    },
    {
      "cell_type": "code",
      "execution_count": null,
      "metadata": {
        "id": "xJRpaXH_evg7"
      },
      "outputs": [],
      "source": [
        "agrupamento = dados_json_normal[['imovel_tipos_propriedade','classe_valor', 'valor_m2']].groupby(by=['imovel_tipos_propriedade', 'classe_valor'])\n",
        "agrupamento"
      ]
    },
    {
      "cell_type": "code",
      "execution_count": null,
      "metadata": {
        "id": "QkWRUW1Hevg7"
      },
      "outputs": [],
      "source": [
        "tabela_estatisticas = agrupamento.agg(func=['min', 'mean', 'std']).round(2)\n",
        "tabela_estatisticas"
      ]
    },
    {
      "cell_type": "code",
      "execution_count": null,
      "metadata": {
        "id": "dGE9_h4Eevg7",
        "scrolled": true
      },
      "outputs": [],
      "source": [
        "tabela_estatistica = tabela_estatisticas.stack(dropna=False)\n",
        "tabela_estatistica"
      ]
    },
    {
      "cell_type": "code",
      "source": [
        "tabela_estatistica.unstack(level= -2)"
      ],
      "metadata": {
        "id": "3C_ZuyF85iuX"
      },
      "execution_count": null,
      "outputs": []
    },
    {
      "cell_type": "code",
      "source": [
        "tabela_estatisticas = tabela_estatisticas.droplevel(level=0, axis='columns')   \n",
        "tabela_estatisticas "
      ],
      "metadata": {
        "id": "t5IwCPRw9Bqe"
      },
      "execution_count": null,
      "outputs": []
    },
    {
      "cell_type": "code",
      "source": [
        "tabela_estatisticas.reset_index(inplace= True) \n",
        "tabela_estatisticas"
      ],
      "metadata": {
        "id": "tuK_woRN8gpo"
      },
      "execution_count": null,
      "outputs": []
    },
    {
      "cell_type": "code",
      "execution_count": null,
      "metadata": {
        "id": "TxCjxASHevg8"
      },
      "outputs": [],
      "source": [
        "dados_json_normal.pivot_table(                                                             #Como meu dados já estão agregados ao meu Dataframe eu vou usar a função pivot_table() para construir a tabela dinamica\n",
        "   values='valor_m2',\n",
        "     index=['imovel_tipos_propriedade', 'classe_valor'],\n",
        "     columns=['anuncio_tipos_listagem'],\n",
        "     fill_value='-',\n",
        "     margins=True,\n",
        "     margins_name='Média Geral',\n",
        "     dropna=False,\n",
        "     aggfunc='mean'\n",
        "\n",
        ")"
      ]
    },
    {
      "cell_type": "markdown",
      "metadata": {
        "id": "z3WPXV_1evg-"
      },
      "source": [
        "# TABULAÇÕES E ESTILIZAÇÃO\n",
        "---"
      ]
    },
    {
      "cell_type": "markdown",
      "source": [
        "Quero identificar todos os itens que existem nas colunas, eles estão em listas,para  fazer uma contagem das propriedades existentes, quais características ects \n"
      ],
      "metadata": {
        "id": "VNL14jkpIhUZ"
      }
    },
    {
      "cell_type": "code",
      "execution_count": null,
      "metadata": {
        "id": "VhIcLAXzevg_"
      },
      "outputs": [],
      "source": [
        "caracteristicas_propriedade= dados_json_normal['imovel_caracteristicas_propriedade']\n",
        "caracteristicas_propriedade"
      ]
    },
    {
      "cell_type": "code",
      "source": [
        "caracteristicas_propriedade_itens = caracteristicas_propriedade.explode()"
      ],
      "metadata": {
        "id": "JqMr84N1Itt0"
      },
      "execution_count": 99,
      "outputs": []
    },
    {
      "cell_type": "code",
      "execution_count": null,
      "metadata": {
        "id": "q8dhRb3sevg_",
        "scrolled": false
      },
      "outputs": [],
      "source": [
        "caracteristicas_propriedade_itens.value_counts()"
      ]
    },
    {
      "cell_type": "code",
      "execution_count": 60,
      "metadata": {
        "id": "eVqYjcWievg_"
      },
      "outputs": [],
      "source": [
        "tabela_frequencias = pd.merge(\n",
        "    left=caracteristicas_propriedade_itens.value_counts(),\n",
        "    right=caracteristicas_propriedade_itens.value_counts(normalize=True),\n",
        "    left_index=True,\n",
        "    right_index=True\n",
        ")"
      ]
    },
    {
      "cell_type": "markdown",
      "source": [
        "#Estilizando o DataFrame para futuras análises"
      ],
      "metadata": {
        "id": "60EykBgnOJ5H"
      }
    },
    {
      "cell_type": "code",
      "source": [
        "tabela_frequencias.rename(columns={                                             #renomenando algumas colunas do meu Dataframe \n",
        "        'imovel_caracteristicas_propriedade_x': 'Frequências',\n",
        "        'imovel_caracteristicas_propriedade_y': 'Percentual'\n",
        "}, inplace=True)\n",
        "\n",
        "tabela_frequencias.rename_axis('características', inplace=True)\n",
        "\n",
        "tabela_frequencias"
      ],
      "metadata": {
        "id": "lpZO1aYeLJen"
      },
      "execution_count": null,
      "outputs": []
    },
    {
      "cell_type": "code",
      "execution_count": null,
      "metadata": {
        "id": "0m_-TJTuevhA"
      },
      "outputs": [],
      "source": [
        "tabela_frequencias.style.format({'Percentual': '{:.2%}'})  #ajusto o percentual da minha serie com 2 numeros "
      ]
    },
    {
      "cell_type": "markdown",
      "source": [
        "###Aplico um mapa de calor em barras no percentual para melhorar as visualizações\n"
      ],
      "metadata": {
        "id": "oOIt8FWEYVFr"
      }
    },
    {
      "cell_type": "code",
      "source": [
        "tabela_frequencias.style.format({'Percentual': '{:.2%}'})\\\n",
        "                        .bar(subset='Percentual', vmin = 0.05, color = 'lightblue')\\\n",
        "                        .applymap(lambda x: f\"color: {'red' if x >= 35 else 'black'}\", subset = 'Frequências')\\\n",
        "                        .applymap(lambda x: f\"font-weight: {'bold' if x >= 35 else 'normal'}\", subset = 'Frequências')"
      ],
      "metadata": {
        "id": "ZCpqRRxQYQfs"
      },
      "execution_count": null,
      "outputs": []
    },
    {
      "cell_type": "markdown",
      "source": [
        "#Estilização do Data set bairros"
      ],
      "metadata": {
        "id": "A9NvTA1uVERR"
      }
    },
    {
      "cell_type": "code",
      "source": [
        "bairros.unstack()"
      ],
      "metadata": {
        "id": "9p0g1QUmUYA1"
      },
      "execution_count": null,
      "outputs": []
    },
    {
      "cell_type": "code",
      "source": [
        "bairros_zona_sul = ['Ipanema', 'Botafogo', 'Catete', 'Copacabana', 'Lagoa', 'Flamengo', 'Gávea', 'Glória', 'Humaitá',\n",
        "                    'Jardim Botânico', 'Laranjeiras', 'Leme', 'Urca', 'Vidigal', 'Cosme Velho', 'São Conrado', 'Rocinha',\n",
        "                    'Leblon']"
      ],
      "metadata": {
        "id": "C-GwkNwDVMng"
      },
      "execution_count": 72,
      "outputs": []
    },
    {
      "cell_type": "code",
      "source": [
        "tabela_zona_sul = bairros.unstack().query(\"index in \" + str(bairros_zona_sul)).droplevel(level=0, axis=1)\n",
        "tabela_zona_sul"
      ],
      "metadata": {
        "id": "pPqfuNtiVMqD"
      },
      "execution_count": null,
      "outputs": []
    },
    {
      "cell_type": "markdown",
      "source": [
        "###Seleciono apenas os dados da zona sul a aplico também o mapa de calor identificando os valores que estão positivos ou negativos no meu data set"
      ],
      "metadata": {
        "id": "ZrQpSfAnZBf8"
      }
    },
    {
      "cell_type": "code",
      "source": [
        "tabela_zona_sul.style \\\n",
        "               .format('R$ {:,.2f}') \\\n",
        "               .background_gradient(subset=['Apartamento'], cmap='Greens') \\\n",
        "               .background_gradient(subset=['Cobertura'], cmap='Blues')"
      ],
      "metadata": {
        "id": "bcQCtlL8VyJD"
      },
      "execution_count": null,
      "outputs": []
    },
    {
      "cell_type": "code",
      "source": [
        ""
      ],
      "metadata": {
        "id": "lhfw11KNVyLe"
      },
      "execution_count": 74,
      "outputs": []
    },
    {
      "cell_type": "markdown",
      "source": [
        "# ANEXOS"
      ],
      "metadata": {
        "id": "Hga5hQtuVyTs"
      }
    },
    {
      "cell_type": "code",
      "source": [
        "import numpy as np\n",
        "import matplotlib as mpl\n",
        "import matplotlib.pyplot as plt\n",
        "from matplotlib import cm\n",
        "from collections import OrderedDict\n",
        "\n",
        "cmaps = OrderedDict()"
      ],
      "metadata": {
        "id": "xiv5XgeNPVgd"
      },
      "execution_count": 68,
      "outputs": []
    },
    {
      "cell_type": "code",
      "source": [
        "cmaps['Perceptually Uniform Sequential'] = [\n",
        "            'viridis', 'plasma', 'inferno', 'magma', 'cividis']\n",
        "\n",
        "cmaps['Sequential'] = [\n",
        "            'Greys', 'Purples', 'Blues', 'Greens', 'Oranges', 'Reds',\n",
        "            'YlOrBr', 'YlOrRd', 'OrRd', 'PuRd', 'RdPu', 'BuPu',\n",
        "            'GnBu', 'PuBu', 'YlGnBu', 'PuBuGn', 'BuGn', 'YlGn']\n",
        "\n",
        "cmaps['Sequential (2)'] = [\n",
        "            'binary', 'gist_yarg', 'gist_gray', 'gray', 'bone', 'pink',\n",
        "            'spring', 'summer', 'autumn', 'winter', 'cool', 'Wistia',\n",
        "            'hot', 'afmhot', 'gist_heat', 'copper']\n",
        "\n",
        "cmaps['Diverging'] = [\n",
        "            'PiYG', 'PRGn', 'BrBG', 'PuOr', 'RdGy', 'RdBu',\n",
        "            'RdYlBu', 'RdYlGn', 'Spectral', 'coolwarm', 'bwr', 'seismic']\n",
        "\n",
        "cmaps['Cyclic'] = ['twilight', 'twilight_shifted', 'hsv']\n",
        "\n",
        "cmaps['Qualitative'] = ['Pastel1', 'Pastel2', 'Paired', 'Accent',\n",
        "                        'Dark2', 'Set1', 'Set2', 'Set3',\n",
        "                        'tab10', 'tab20', 'tab20b', 'tab20c']\n",
        "\n",
        "cmaps['Miscellaneous'] = [\n",
        "            'flag', 'prism', 'ocean', 'gist_earth', 'terrain', 'gist_stern',\n",
        "            'gnuplot', 'gnuplot2', 'CMRmap', 'cubehelix', 'brg',\n",
        "            'gist_rainbow', 'rainbow', 'jet', 'nipy_spectral',\n",
        "            'gist_ncar']"
      ],
      "metadata": {
        "id": "_GsGtBI7V0gj"
      },
      "execution_count": 69,
      "outputs": []
    },
    {
      "cell_type": "code",
      "source": [
        "nrows = max(len(cmap_list) for cmap_category, cmap_list in cmaps.items())\n",
        "gradient = np.linspace(0, 1, 256)\n",
        "gradient = np.vstack((gradient, gradient))\n",
        "\n",
        "\n",
        "def plot_color_gradients(cmap_category, cmap_list, nrows):\n",
        "    fig, axes = plt.subplots(nrows=nrows)\n",
        "    fig.subplots_adjust(top=0.95, bottom=0.01, left=0.2, right=0.99)\n",
        "    axes[0].set_title(cmap_category + ' colormaps', fontsize=14)\n",
        "\n",
        "    for ax, name in zip(axes, cmap_list):\n",
        "        ax.imshow(gradient, aspect='auto', cmap=plt.get_cmap(name))\n",
        "        pos = list(ax.get_position().bounds)\n",
        "        x_text = pos[0] - 0.01\n",
        "        y_text = pos[1] + pos[3]/2.\n",
        "        fig.text(x_text, y_text, name, va='center', ha='right', fontsize=10)\n",
        "\n",
        "    # Turn off *all* ticks & spines, not just the ones with colormaps.\n",
        "    for ax in axes:\n",
        "        ax.set_axis_off()\n",
        "\n",
        "\n",
        "for cmap_category, cmap_list in cmaps.items():\n",
        "    plot_color_gradients(cmap_category, cmap_list, nrows)\n",
        "\n",
        "plt.show()"
      ],
      "metadata": {
        "colab": {
          "base_uri": "https://localhost:8080/",
          "height": 0
        },
        "id": "avQSvXLhV0i8",
        "outputId": "efad3107-62a6-478b-c07b-605011f4609f"
      },
      "execution_count": 70,
      "outputs": [
        {
          "output_type": "display_data",
          "data": {
            "text/plain": [
              "<Figure size 432x288 with 18 Axes>"
            ],
            "image/png": "[encoded data removed]"
          },
          "metadata": {
            "needs_background": "light"
          }
        },
        {
          "output_type": "display_data",
          "data": {
            "text/plain": [
              "<Figure size 432x288 with 18 Axes>"
            ],
            "image/png": "[encoded data removed]"
          },
          "metadata": {
            "needs_background": "light"
          }
        },
        {
          "output_type": "display_data",
          "data": {
            "text/plain": [
              "<Figure size 432x288 with 18 Axes>"
            ],
            "image/png": "[encoded data removed]"
          },
          "metadata": {
            "needs_background": "light"
          }
        },
        {
          "output_type": "display_data",
          "data": {
            "text/plain": [
              "<Figure size 432x288 with 18 Axes>"
            ],
            "image/png": "[encoded data removed]"
          },
          "metadata": {
            "needs_background": "light"
          }
        },
        {
          "output_type": "display_data",
          "data": {
            "text/plain": [
              "<Figure size 432x288 with 18 Axes>"
            ],
            "image/png": "[encoded data removed]"
          },
          "metadata": {
            "needs_background": "light"
          }
        },
        {
          "output_type": "display_data",
          "data": {
            "text/plain": [
              "<Figure size 432x288 with 18 Axes>"
            ],
            "image/png": "[encoded data removed]"
          },
          "metadata": {
            "needs_background": "light"
          }
        },
        {
          "output_type": "display_data",
          "data": {
            "text/plain": [
              "<Figure size 432x288 with 18 Axes>"
            ],
            "image/png": "[encoded data removed]"
          },
          "metadata": {
            "needs_background": "light"
          }
        }
      ]
    },
    {
      "cell_type": "code",
      "source": [
        ""
      ],
      "metadata": {
        "id": "4a9kx-ivV0lW"
      },
      "execution_count": 70,
      "outputs": []
    },
    {
      "cell_type": "code",
      "source": [
        ""
      ],
      "metadata": {
        "id": "PD_EMDzuV0n0"
      },
      "execution_count": 70,
      "outputs": []
    }
  ],
  "metadata": {
    "colab": {
      "name": "Data Science - Setor Imobiliário com Json e Excel ",
      "provenance": []
    },
    "kernelspec": {
      "display_name": "Python 3",
      "language": "python",
      "name": "python3"
    },
    "language_info": {
      "codemirror_mode": {
        "name": "ipython",
        "version": 3
      },
      "file_extension": ".py",
      "mimetype": "text/x-python",
      "name": "python",
      "nbconvert_exporter": "python",
      "pygments_lexer": "ipython3",
      "version": "3.8.5"
    },
    "toc": {
      "base_numbering": 1,
      "nav_menu": {},
      "number_sections": false,
      "sideBar": true,
      "skip_h1_title": false,
      "title_cell": "Table of Contents",
      "title_sidebar": "Contents",
      "toc_cell": false,
      "toc_position": {
        "height": "calc(100% - 180px)",
        "left": "10px",
        "top": "150px",
        "width": "268.2px"
      },
      "toc_section_display": true,
      "toc_window_display": false
    },
    "varInspector": {
      "cols": {
        "lenName": 16,
        "lenType": 16,
        "lenVar": 40
      },
      "kernels_config": {
        "python": {
          "delete_cmd_postfix": "",
          "delete_cmd_prefix": "del ",
          "library": "var_list.py",
          "varRefreshCmd": "print(var_dic_list())"
        },
        "r": {
          "delete_cmd_postfix": ") ",
          "delete_cmd_prefix": "rm(",
          "library": "var_list.r",
          "varRefreshCmd": "cat(var_dic_list()) "
        }
      },
      "types_to_exclude": [
        "module",
        "function",
        "builtin_function_or_method",
        "instance",
        "_Feature"
      ],
      "window_display": false
    }
  },
  "nbformat": 4,
  "nbformat_minor": 0
}